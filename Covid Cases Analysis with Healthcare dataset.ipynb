{
  "nbformat": 4,
  "nbformat_minor": 0,
  "metadata": {
    "colab": {
      "provenance": [],
      "authorship_tag": "ABX9TyPX3jTaYJIgsNODYWzSgOvd",
      "include_colab_link": true
    },
    "kernelspec": {
      "name": "python3",
      "display_name": "Python 3"
    },
    "language_info": {
      "name": "python"
    }
  },
  "cells": [
    {
      "cell_type": "markdown",
      "metadata": {
        "id": "view-in-github",
        "colab_type": "text"
      },
      "source": [
        "<a href=\"https://colab.research.google.com/github/sambhajizambre/POWERBI/blob/main/Covid%20Cases%20Analysis%20with%20Healthcare%20dataset.ipynb\" target=\"_parent\"><img src=\"https://colab.research.google.com/assets/colab-badge.svg\" alt=\"Open In Colab\"/></a>"
      ]
    },
    {
      "cell_type": "markdown",
      "source": [
        "**Covid Cases Analysis**"
      ],
      "metadata": {
        "id": "tYw_Vo1eQqYh"
      }
    },
    {
      "cell_type": "markdown",
      "source": [
        "https://app.powerbi.com/groups/me/reports/056c1dd0-012c-4377-9e61-791c73ca033f/ReportSection?experience=power-bi"
      ],
      "metadata": {
        "id": "1DQ3mjuuQmqd"
      }
    },
    {
      "cell_type": "markdown",
      "source": [
        "**Dataset**\n",
        "/content/7-Health Care.7z"
      ],
      "metadata": {
        "id": "lObZgKEIQzlT"
      }
    }
  ]
}